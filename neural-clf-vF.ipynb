{
 "cells": [
  {
   "cell_type": "markdown",
   "id": "8a46b9d1-1117-413f-a983-fee9075246fd",
   "metadata": {},
   "source": [
    "tensorboard --logdir=runs"
   ]
  },
  {
   "cell_type": "code",
   "execution_count": 6,
   "id": "e04e415c-98b2-4706-9540-260470deec98",
   "metadata": {},
   "outputs": [],
   "source": [
    "import os\n",
    "from matplotlib import pyplot as plt\n",
    "import time\n",
    "import numpy as np\n",
    "import pandas as pd\n",
    "import math\n",
    "import glob\n",
    "import random\n",
    "from collections import Counter\n",
    "\n",
    "import torchaudio\n",
    "\n",
    "import torch\n",
    "import torch.nn as nn\n",
    "import torch.nn.functional as F\n",
    "import torch.optim as optim\n",
    "from torch.utils.data import Dataset, DataLoader\n",
    "from torch.utils.tensorboard import SummaryWriter\n",
    "import torchaudio.functional as torchaudio_F\n",
    "import torchaudio.transforms as torchaudio_T\n",
    "import tqdm\n",
    "\n",
    "from src.dataset_v2 import *\n",
    "from src.model import CPC, CPC_classifier, CPC_classifier_v3"
   ]
  },
  {
   "cell_type": "code",
   "execution_count": 7,
   "id": "c6d656df-7d1f-4a21-b049-80a0d6897250",
   "metadata": {},
   "outputs": [],
   "source": [
    "def get_dataloader_metadata(wav_path, dataset_path, top_labels=None): \n",
    "    path_list = glob.glob(wav_path+'/*.wav')\n",
    "    dialog_speaker_id = list(map(lambda x: x.split('/')[-1].split('.')[0], path_list))\n",
    "    dialog_id = list(map(lambda x: x.split('/')[-1].split('_')[0], path_list))\n",
    "    df_path = pd.DataFrame({'dialog_id': dialog_id, 'dialog_speaker_id': dialog_speaker_id, 'path': path_list})\n",
    "\n",
    "    df_metadata = pd.read_csv(dataset_path, usecols=['dialog_id', 'speaker', 'da_tag', 'start_time', 'end_time'])\n",
    "    df_metadata['dialog_speaker_id'] = df_metadata['dialog_id'] + '_' + df_metadata['speaker']\n",
    "    df_metadata = df_metadata.merge(df_path, how='inner')\n",
    "\n",
    "    # Compute Top 10 tags for train\n",
    "    if top_labels == None:\n",
    "        cnt = Counter(df_metadata['da_tag'])\n",
    "        print(cnt.most_common()[0:10])\n",
    "        top_labels = list(map(lambda x: x[0], cnt.most_common()[0:10]))\n",
    "    label_map = dict(zip(top_labels, range(10)))\n",
    "\n",
    "    df_metadata = df_metadata[df_metadata['da_tag'].apply(lambda x: x in top_labels)]\n",
    "    df_metadata['label'] = df_metadata['da_tag'].apply(lambda x: label_map[x])\n",
    "\n",
    "    df_metadata = df_metadata.reset_index(drop=True)\n",
    "    \n",
    "    return df_metadata, top_labels"
   ]
  },
  {
   "cell_type": "code",
   "execution_count": 8,
   "id": "ba8699c0-3d3c-4ac6-8cad-9185e0d4f228",
   "metadata": {},
   "outputs": [
    {
     "name": "stdout",
     "output_type": "stream",
     "text": [
      "[('x', 29998), ('sd', 19364), ('b', 10028), ('sv', 7428), ('+', 4919), ('%', 4294), ('aa', 3014), ('ba', 1112), ('qy', 1043), ('ny', 729)]\n"
     ]
    }
   ],
   "source": [
    "wav_path = os.path.join(os.path.expanduser('~'), 'Jupyter-data/Switchboard-DA')\n",
    "trainset_path = './train.csv'\n",
    "testset_path = './test.csv'\n",
    "df_dl_train, top_labels = get_dataloader_metadata(wav_path, trainset_path)\n",
    "df_dl_test, _ = get_dataloader_metadata(wav_path, testset_path, top_labels=top_labels)"
   ]
  },
  {
   "cell_type": "code",
   "execution_count": 10,
   "id": "3b27da9d-a5d8-4492-92eb-4768e1b8d251",
   "metadata": {},
   "outputs": [],
   "source": []
  },
  {
   "cell_type": "markdown",
   "id": "a2b7d075-1b79-4c99-bb84-0d9f82424bef",
   "metadata": {},
   "source": [
    "# Training"
   ]
  },
  {
   "cell_type": "code",
   "execution_count": 9,
   "id": "c571fa42-06d0-4d8a-a5d6-1566aa89a299",
   "metadata": {},
   "outputs": [],
   "source": [
    "batch_size = 32\n",
    "dataset_train = Switchboard_Dataset_trainer_v3(df_dl_train)\n",
    "dataset_test = Switchboard_Dataset_trainer_v3(df_dl_test)\n",
    "dataloader_train = DataLoader(dataset_train, batch_size=batch_size, shuffle=True, collate_fn=padding_tensor_trainer_v3)\n",
    "dataloader_test = DataLoader(dataset_test, batch_size=batch_size, shuffle=True, collate_fn=padding_tensor_trainer_v3)"
   ]
  },
  {
   "cell_type": "code",
   "execution_count": 10,
   "id": "73262899-650b-4927-923c-98998f434731",
   "metadata": {},
   "outputs": [],
   "source": [
    "model_clf = CPC_classifier_v3(\n",
    "    phi_dim=256,\n",
    "    c_dim=128,\n",
    "    rnn_num_layers=1,\n",
    ")\n",
    "\n",
    "for name, param in model_clf.encoder2.named_parameters():\n",
    "    param = nn.parameter.Parameter(torch.ones(param.shape), requires_grad=False)\n",
    "    \n",
    "model_clf.cuda()\n",
    "optimizer = optim.Adam(model_clf.parameters(), lr=0.001)\n",
    "\n",
    "loss_vec = []\n",
    "\n",
    "writer = SummaryWriter(flush_secs=60)\n",
    "cnt_step = 0"
   ]
  },
  {
   "cell_type": "code",
   "execution_count": null,
   "id": "4ce64fb5-05ca-4b0f-9870-70e5ad45852a",
   "metadata": {},
   "outputs": [],
   "source": [
    "for ep in range(1,100):\n",
    "    model_clf.train()\n",
    "    avg_loss = 0\n",
    "    for x, y in tqdm.tqdm(dataloader_train):\n",
    "        optimizer.zero_grad()\n",
    "        y_hat = model_clf(x.to('cuda'))\n",
    "        loss = F.cross_entropy(y_hat, y.to('cuda'))\n",
    "\n",
    "        loss.backward()\n",
    "        optimizer.step()\n",
    "        # scheduler.step()\n",
    "\n",
    "        avg_loss += loss.cpu().detach().numpy()/x.shape[0]\n",
    "        cnt_step += 1\n",
    "        writer.add_scalar('Loss/train', loss, cnt_step)\n",
    "        acc = (torch.topk(y_hat,1)[1].cpu().squeeze(1) == y).numpy().mean()\n",
    "        writer.add_scalar('Acc/train', acc, cnt_step)\n",
    "    \n",
    "    model_clf.eval()\n",
    "    avg_loss = 0\n",
    "    avg_acc = 0\n",
    "    with torch.no_grad():\n",
    "        for x, y in tqdm.tqdm(dataloader_test):\n",
    "            y_hat = model_clf(x.to('cuda'))\n",
    "            \n",
    "            loss = F.cross_entropy(y_hat, y.to('cuda'))\n",
    "            avg_loss += loss.cpu().detach().numpy()\n",
    "            \n",
    "            acc = (torch.topk(y_hat,1)[1].cpu().squeeze(1) == y).numpy().sum()\n",
    "            avg_acc += acc\n",
    "\n",
    "    avg_loss = avg_loss/len(dataloader_test)\n",
    "    avg_acc = avg_acc/len(dataset_test)\n",
    "    \n",
    "    print(avg_loss)\n",
    "    print(avg_acc)"
   ]
  },
  {
   "cell_type": "code",
   "execution_count": 28,
   "id": "547a2c7e-4af5-4545-b5b5-3c3548a44798",
   "metadata": {},
   "outputs": [],
   "source": [
    "torch.save(model_clf.state_dict(), './sw-clfv3-vF-step270k.pth')"
   ]
  },
  {
   "cell_type": "code",
   "execution_count": null,
   "id": "ef22e93a-924e-40b3-b270-ac38ef973730",
   "metadata": {},
   "outputs": [],
   "source": []
  },
  {
   "cell_type": "markdown",
   "id": "22c8bd76-801f-4c61-81fd-d7583bedbb21",
   "metadata": {},
   "source": [
    "# Evaluate"
   ]
  },
  {
   "cell_type": "code",
   "execution_count": 10,
   "id": "52f5acb6-56ca-45e1-b218-8de1684b0a48",
   "metadata": {},
   "outputs": [
    {
     "name": "stdout",
     "output_type": "stream",
     "text": [
      "ready\n"
     ]
    }
   ],
   "source": [
    "model_clf = CPC_classifier_v3(\n",
    "    phi_dim=256,\n",
    "    c_dim=128,\n",
    "    rnn_num_layers=1,\n",
    ")\n",
    "model_clf.load_state_dict(torch.load('./sw-clfv3-vF-step160k.pth'))\n",
    "model_clf.cuda()\n",
    "model_clf.eval()\n",
    "print('ready')"
   ]
  },
  {
   "cell_type": "code",
   "execution_count": 11,
   "id": "8b890ad3-afc5-4c74-837d-09697cbb5ba6",
   "metadata": {},
   "outputs": [
    {
     "name": "stderr",
     "output_type": "stream",
     "text": [
      "100%|█████████████████████████████████████████| 474/474 [00:34<00:00, 13.84it/s]"
     ]
    },
    {
     "name": "stdout",
     "output_type": "stream",
     "text": [
      "1.7598532428218343\n",
      "0.6997820199484774\n"
     ]
    },
    {
     "name": "stderr",
     "output_type": "stream",
     "text": [
      "\n"
     ]
    }
   ],
   "source": [
    "model_clf.eval()\n",
    "avg_loss = 0\n",
    "avg_acc = 0\n",
    "with torch.no_grad():\n",
    "    for x, y in tqdm.tqdm(dataloader_test):\n",
    "        y_hat = model_clf(x.to('cuda'))\n",
    "\n",
    "        loss = F.cross_entropy(y_hat, y.to('cuda'))\n",
    "        avg_loss += loss.cpu().detach().numpy()\n",
    "\n",
    "        acc = (torch.topk(y_hat,1)[1].cpu().squeeze(1) == y).numpy().sum()\n",
    "        avg_acc += acc\n",
    "\n",
    "avg_loss = avg_loss/len(dataloader_test)\n",
    "avg_acc = avg_acc/len(dataset_test)\n",
    "print(avg_loss)\n",
    "print(avg_acc)"
   ]
  },
  {
   "cell_type": "code",
   "execution_count": null,
   "id": "0e830029-c299-48d2-b769-de01a1a9f16e",
   "metadata": {},
   "outputs": [],
   "source": []
  }
 ],
 "metadata": {
  "kernelspec": {
   "display_name": "Python 3 (ipykernel)",
   "language": "python",
   "name": "python3"
  },
  "language_info": {
   "codemirror_mode": {
    "name": "ipython",
    "version": 3
   },
   "file_extension": ".py",
   "mimetype": "text/x-python",
   "name": "python",
   "nbconvert_exporter": "python",
   "pygments_lexer": "ipython3",
   "version": "3.9.7"
  }
 },
 "nbformat": 4,
 "nbformat_minor": 5
}
